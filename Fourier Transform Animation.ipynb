{
 "cells": [
  {
   "cell_type": "code",
   "execution_count": 1,
   "metadata": {},
   "outputs": [],
   "source": [
    "%config InlineBackend.figure_format = 'svg'\n",
    "\n",
    "from ipywidgets import interactive, interact_manual\n",
    "from IPython.display import display\n",
    "import numpy as np\n",
    "from numpy.fft.fftpack import fft\n",
    "import matplotlib.pyplot as plt"
   ]
  },
  {
   "cell_type": "code",
   "execution_count": 2,
   "metadata": {},
   "outputs": [],
   "source": [
    "Fs = 1000\n",
    "T = 1 / Fs\n",
    "L = 500\n",
    "t = np.arange(0, L) * T\n",
    "noise_signal = np.random.randn(np.size(t))"
   ]
  },
  {
   "cell_type": "code",
   "execution_count": 3,
   "metadata": {},
   "outputs": [],
   "source": [
    "def fourier_transform_of_a_noisy_signal(signal_freq=50, noise_amplitude=0):\n",
    "\n",
    "    x = 1 * np.sin(2 * np.pi * signal_freq * t)\n",
    "    y = x + noise_amplitude * noise_signal\n",
    "\n",
    "    plt.figure(figsize=(9, 6))\n",
    "    fig = plt.gcf()\n",
    "    #fig.suptitle(\"Noisy Signal and its Fourier Transform\", fontsize=16)\n",
    "\n",
    "    plt.subplot(2, 1, 1)\n",
    "    plt.axis([0, 0.5, -4, 4])\n",
    "    plt.plot(Fs * t / 1000, y, 'k')\n",
    "    plt.title('')\n",
    "    plt.xlabel('time (s)')\n",
    "    plt.ylabel('y(t)')\n",
    "    plt.grid()\n",
    "    plt.title('Signal Corrupted with Zero-Mean Random Noise')\n",
    "\n",
    "    NFFT = 2 ** 12\n",
    "    Y = fft(y, NFFT) / L\n",
    "    f = Fs/2 * np.linspace(0, 1, NFFT//2)\n",
    "\n",
    "    ax = plt.subplot(2, 1, 2)\n",
    "    plt.axis([0, 500, 0, 1])\n",
    "    plt.plot(f, 2 * abs(Y[0 : NFFT//2 ]), 'k') \n",
    "    plt.xlabel('Frequency (Hz)')\n",
    "    plt.ylabel('|Y(f)|')\n",
    "    ax.set_xticks(np.linspace(0, 500, 11))\n",
    "    plt.grid()\n",
    "    plt.title('Single-Sided Amplitude Spectrum of y(t)')\n",
    "    \n",
    "    plt.tight_layout()\n",
    "    plt.show()\n",
    "    "
   ]
  },
  {
   "cell_type": "code",
   "execution_count": 4,
   "metadata": {},
   "outputs": [
    {
     "data": {
      "application/vnd.jupyter.widget-view+json": {
       "model_id": "1f2eebb0c4c14ac69bcf253e7a88562f",
       "version_major": 2,
       "version_minor": 0
      },
      "text/plain": [
       "interactive(children=(IntSlider(value=50, description='signal_freq', max=500, step=10), FloatSlider(value=0.0,…"
      ]
     },
     "metadata": {},
     "output_type": "display_data"
    }
   ],
   "source": [
    "v = interactive(fourier_transform_of_a_noisy_signal, signal_freq=(0, 500, 10), noise_amplitude=(0, 3, 0.1),\n",
    "                continuous_update=False)\n",
    "display(v)"
   ]
  },
  {
   "cell_type": "code",
   "execution_count": null,
   "metadata": {
    "collapsed": true
   },
   "outputs": [],
   "source": []
  },
  {
   "cell_type": "code",
   "execution_count": null,
   "metadata": {
    "collapsed": true
   },
   "outputs": [],
   "source": []
  }
 ],
 "metadata": {
  "kernelspec": {
   "display_name": "Python 3",
   "language": "python",
   "name": "python3"
  },
  "language_info": {
   "codemirror_mode": {
    "name": "ipython",
    "version": 3
   },
   "file_extension": ".py",
   "mimetype": "text/x-python",
   "name": "python",
   "nbconvert_exporter": "python",
   "pygments_lexer": "ipython3",
   "version": "3.7.3"
  }
 },
 "nbformat": 4,
 "nbformat_minor": 2
}
