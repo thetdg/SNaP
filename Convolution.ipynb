{
 "cells": [
  {
   "cell_type": "code",
   "execution_count": 1,
   "metadata": {},
   "outputs": [],
   "source": [
    "%config InlineBackend.figure_format = 'svg'\n",
    "\n",
    "from ipywidgets import interactive, interact_manual, Layout, Label, FloatSlider, VBox, interactive_output\n",
    "import ipywidgets\n",
    "from IPython.display import display\n",
    "import numpy as np\n",
    "import matplotlib.pyplot as plt\n",
    "from scipy.integrate import cumtrapz"
   ]
  },
  {
   "cell_type": "code",
   "execution_count": 2,
   "metadata": {},
   "outputs": [],
   "source": [
    "def convolution(t):\n",
    "    start_time = -8\n",
    "    end_time = 8\n",
    "    num_samples = 1000\n",
    "    tau = np.linspace(start_time, end_time, num_samples)\n",
    "\n",
    "    def x(tau):\n",
    "        return np.heaviside(tau, 0) - np.heaviside(tau - 4, 0)\n",
    "\n",
    "    def h(tau):\n",
    "        return 2 * np.exp(-tau) * np.heaviside(tau, 0)\n",
    "\n",
    "#     def x(tau):\n",
    "#         return tau * np.heaviside(tau, 0) - (tau - 1) * np.heaviside(tau - 1, 0) - (tau - 2) * np.heaviside(tau - 2, 0) + (tau - 3) * np.heaviside(tau - 3, 0)\n",
    "\n",
    "#     def h(tau):\n",
    "#         return tau * np.heaviside(tau, 0) - (tau - 1) * np.heaviside(tau - 1, 0) - (tau - 2) * np.heaviside(tau - 2, 0) + (tau - 3) * np.heaviside(tau - 3, 0)\n",
    "\n",
    "\n",
    "    plt.figure(figsize=(10, 6))\n",
    "    plt.subplot(2, 1, 1)\n",
    "    plt.plot(tau, x(tau), 'k')\n",
    "    plt.plot(tau, h(t - tau), 'r')\n",
    "    conv_prod = x(tau) * h(t - tau)\n",
    "    fill_range = tau[conv_prod != 0]\n",
    "    plt.fill_between(fill_range, h(t - fill_range), alpha=0.3, color='red');\n",
    "    plt.xlim([start_time, end_time])\n",
    "    plt.ylim([-0.1, max(np.amax(x(tau)), np.amax(h(tau)))*1.1])\n",
    "    plt.grid()\n",
    "\n",
    "    plt.subplot(2, 1, 2)\n",
    "    amp_scaling = num_samples / (end_time - start_time)\n",
    "    area = np.convolve(x(tau), h(tau), mode='same') / amp_scaling\n",
    "    to_plot = tau < t\n",
    "    shifted_tau = tau[to_plot]\n",
    "    area_to_plot = area[to_plot]\n",
    "    plt.plot(shifted_tau, area_to_plot, 'b')\n",
    "    plt.plot(shifted_tau[-1], area_to_plot[-1], 'bo')\n",
    "    plt.ylim([-0.1, np.amax(area)*1.1])\n",
    "    plt.xlim([start_time, end_time])\n",
    "    plt.grid()"
   ]
  },
  {
   "cell_type": "code",
   "execution_count": 3,
   "metadata": {
    "scrolled": false
   },
   "outputs": [
    {
     "data": {
      "application/vnd.jupyter.widget-view+json": {
       "model_id": "229f614f80a64c2db23abbc4c41bc0b5",
       "version_major": 2,
       "version_minor": 0
      },
      "text/plain": [
       "VBox(children=(FloatSlider(value=-3.0, description='t', max=8.0, min=-7.0, step=0.25), Output()))"
      ]
     },
     "metadata": {},
     "output_type": "display_data"
    }
   ],
   "source": [
    "time_now = FloatSlider(value=-3, min=-7, max=8, step=0.25, description='t')\n",
    "plot_fig = interactive_output(convolution, {'t' : time_now})\n",
    "\n",
    "ui = VBox([time_now, plot_fig])\n",
    "display(ui)"
   ]
  },
  {
   "cell_type": "code",
   "execution_count": null,
   "metadata": {},
   "outputs": [],
   "source": []
  },
  {
   "cell_type": "code",
   "execution_count": null,
   "metadata": {},
   "outputs": [],
   "source": []
  }
 ],
 "metadata": {
  "kernelspec": {
   "display_name": "Python 3",
   "language": "python",
   "name": "python3"
  },
  "language_info": {
   "codemirror_mode": {
    "name": "ipython",
    "version": 3
   },
   "file_extension": ".py",
   "mimetype": "text/x-python",
   "name": "python",
   "nbconvert_exporter": "python",
   "pygments_lexer": "ipython3",
   "version": "3.8.2"
  }
 },
 "nbformat": 4,
 "nbformat_minor": 2
}
