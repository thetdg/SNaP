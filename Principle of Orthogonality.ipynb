{
 "cells": [
  {
   "cell_type": "markdown",
   "metadata": {
    "slideshow": {
     "slide_type": "-"
    }
   },
   "source": [
    "# Principle of Orthogonality\n",
    "## TDG"
   ]
  },
  {
   "cell_type": "markdown",
   "metadata": {
    "slideshow": {
     "slide_type": "-"
    }
   },
   "source": [
    "## Initial Config"
   ]
  },
  {
   "cell_type": "code",
   "execution_count": 1,
   "metadata": {},
   "outputs": [],
   "source": [
    "%config InlineBackend.figure_format = 'svg'\n",
    "\n",
    "from ipywidgets import interactive, interact_manual, Layout, Label, FloatSlider, VBox, HBox, interactive_output, IntSlider\n",
    "import ipywidgets\n",
    "from IPython.display import display\n",
    "import numpy as np\n",
    "from numpy import sin, cos, linspace, pi\n",
    "import matplotlib.pyplot as plt"
   ]
  },
  {
   "cell_type": "markdown",
   "metadata": {
    "slideshow": {
     "slide_type": "slide"
    }
   },
   "source": [
    "## Main Function"
   ]
  },
  {
   "cell_type": "code",
   "execution_count": 2,
   "metadata": {
    "slideshow": {
     "slide_type": "-"
    }
   },
   "outputs": [],
   "source": [
    "def orthogonality(a1, a2, a3, f):\n",
    "    t = linspace(0, 3, 10000)\n",
    "    x = a1*sin(2*pi*t) + a2*sin(2*pi*2*t) + a3*sin(2*pi*3*t)\n",
    "    y = x * sin(2*pi*f*t)\n",
    "\n",
    "    plt.figure(figsize=(12, 6))\n",
    "    plt.subplot(2, 1, 1)\n",
    "    plt.plot(t, x, label='$x(t)$')\n",
    "    ax = plt.gca()\n",
    "    ax.tick_params(axis = 'both', which = 'major', labelsize = 12)\n",
    "    #plt.ylabel('$x(t)$', fontsize=14)\n",
    "    plt.legend(loc=1, fontsize=14)\n",
    "    plt.grid()\n",
    "    plt.subplot(2, 1, 2)\n",
    "    plt.plot(t[y>=0], y[y>=0], label='$x(t)\\, \\sin(2\\pi f\\,t), \\, f={}\\,Hz$'.format(f))\n",
    "    ax = plt.gca()\n",
    "    ax.tick_params(axis = 'both', which = 'major', labelsize = 12)\n",
    "    #plt.ylabel('$x(t) \\sin(2\\pi f\\,t), \\, f={}Hz$'.format(f), fontsize=14)\n",
    "    plt.legend(loc=1, fontsize=14)\n",
    "    plt.fill_between(t[y>=0], y[y>=0], alpha=0.7)\n",
    "    plt.plot(t[y<0], y[y<0], 'r')\n",
    "    plt.fill_between(t[y<0], y[y<0], alpha=0.7)\n",
    "    plt.grid()\n",
    "\n",
    "    plt.xlabel('time (s)', fontsize=14)\n",
    "    plt.show()"
   ]
  },
  {
   "cell_type": "markdown",
   "metadata": {
    "slideshow": {
     "slide_type": "slide"
    }
   },
   "source": [
    "## Setting Up Interactive Widgets"
   ]
  },
  {
   "cell_type": "code",
   "execution_count": 3,
   "metadata": {
    "slideshow": {
     "slide_type": "-"
    }
   },
   "outputs": [
    {
     "data": {
      "application/vnd.jupyter.widget-view+json": {
       "model_id": "65b2180df5a94a1790f7132f5971ccdc",
       "version_major": 2,
       "version_minor": 0
      },
      "text/plain": [
       "VBox(children=(HBox(children=(FloatSlider(value=1.0, description='a1', max=2.0, step=0.25), FloatSlider(value=…"
      ]
     },
     "metadata": {},
     "output_type": "display_data"
    }
   ],
   "source": [
    "a1 = FloatSlider(value=1, min=0, max=2, step=0.25, description='a1')\n",
    "a2 = FloatSlider(value=0, min=0, max=2, step=0.25, description='a2')\n",
    "a3 = FloatSlider(value=0, min=0, max=2, step=0.25, description='a3')\n",
    "f = IntSlider(value=1, min=0, max=5, description='f')\n",
    "\n",
    "sliders = HBox([a1, a2, a3, f])\n",
    "\n",
    "plot_fig = interactive_output(orthogonality, {'a1' : a1, 'a2' : a2, 'a3' : a3, 'f' : f})\n",
    "\n",
    "ui = VBox([sliders, plot_fig])\n",
    "display(ui)"
   ]
  },
  {
   "cell_type": "code",
   "execution_count": null,
   "metadata": {},
   "outputs": [],
   "source": []
  },
  {
   "cell_type": "code",
   "execution_count": null,
   "metadata": {},
   "outputs": [],
   "source": []
  }
 ],
 "metadata": {
  "kernelspec": {
   "display_name": "Python 3",
   "language": "python",
   "name": "python3"
  },
  "language_info": {
   "codemirror_mode": {
    "name": "ipython",
    "version": 3
   },
   "file_extension": ".py",
   "mimetype": "text/x-python",
   "name": "python",
   "nbconvert_exporter": "python",
   "pygments_lexer": "ipython3",
   "version": "3.7.0"
  }
 },
 "nbformat": 4,
 "nbformat_minor": 2
}
