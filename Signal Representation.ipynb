{
  "nbformat": 4,
  "nbformat_minor": 0,
  "metadata": {
    "colab": {
      "name": "Plot Signals.ipynb",
      "provenance": [],
      "collapsed_sections": []
    },
    "kernelspec": {
      "name": "python3",
      "display_name": "Python 3"
    }
  },
  "cells": [
    {
      "cell_type": "code",
      "metadata": {
        "id": "XY-tSOmK6P8r",
        "colab_type": "code",
        "colab": {}
      },
      "source": [
        "\"\"\"\n",
        "This programme provides easily accessible and vectorized \n",
        "unit step, ramp and parabolic functions\n",
        "Created by Tanmoy Dasgupta\n",
        "\"\"\"\n",
        "from numpy import array\n",
        "\n",
        "#unit step function\n",
        "def u(x):\n",
        "    x = array(x).astype('float64')\n",
        "    step_out = (x >= 0).astype('float64')\n",
        "    return step_out\n",
        "\n",
        "#unit ramp function\n",
        "def r(x):\n",
        "    x = array(x).astype('float64')\n",
        "    ramp_out = x * (x >= 0).astype('float64')\n",
        "    return ramp_out\n",
        "\n",
        "#unit parabolic function\n",
        "def p(x):\n",
        "    x = array(x).astype('float64')\n",
        "    parabolic_out = x * x * (x >= 0).astype('float64')\n",
        "    return parabolic_out\n",
        "\n",
        "#Dirac delta function\n",
        "def d(x, width=0.01):\n",
        "    x = array(x).astype('float64')\n",
        "    delta_out = (x > - width).astype('float64') + (x < width).astype('float64')\n",
        "    return delta_out"
      ],
      "execution_count": 0,
      "outputs": []
    },
    {
      "cell_type": "code",
      "metadata": {
        "id": "nxuAZfI-6n0u",
        "colab_type": "code",
        "colab": {}
      },
      "source": [
        "from numpy import linspace\n",
        "from matplotlib.pyplot import plot, grid, xlabel, ylabel"
      ],
      "execution_count": 0,
      "outputs": []
    },
    {
      "cell_type": "code",
      "metadata": {
        "id": "JArNKF9W62jF",
        "colab_type": "code",
        "colab": {
          "base_uri": "https://localhost:8080/",
          "height": 279
        },
        "outputId": "33e3ffd5-513b-4542-af3f-f37b1ad484ba"
      },
      "source": [
        "t = linspace(-4, 6, 1000)\n",
        "x = u(t + 1) + r(t) - r(t - 1) - 2*u(t - 2) + r(t -3) - 2*r(t - 5)\n",
        "\n",
        "plot(t, x)\n",
        "xlabel('time (s)')\n",
        "ylabel('amplitude')\n",
        "grid()"
      ],
      "execution_count": 6,
      "outputs": [
        {
          "output_type": "display_data",
          "data": {
            "image/png": "[encoded data removed]",
            "text/plain": [
              "<Figure size 432x288 with 1 Axes>"
            ]
          },
          "metadata": {
            "tags": []
          }
        }
      ]
    },
    {
      "cell_type": "code",
      "metadata": {
        "id": "Y6ThQ2lE7mwn",
        "colab_type": "code",
        "colab": {}
      },
      "source": [
        ""
      ],
      "execution_count": 0,
      "outputs": []
    }
  ]
}